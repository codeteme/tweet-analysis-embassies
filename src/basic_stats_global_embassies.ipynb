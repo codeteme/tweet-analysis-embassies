{
 "cells": [
  {
   "cell_type": "code",
   "execution_count": null,
   "metadata": {},
   "outputs": [],
   "source": [
    "import os\n",
    "import pandas as pd\n",
    "import langdetect"
   ]
  },
  {
   "cell_type": "code",
   "execution_count": null,
   "metadata": {},
   "outputs": [],
   "source": [
    "# Get the path to the folder containing the Excel files\n",
    "excel_folder_path = \"../raw/WorldCup_Countries_Embassies_in_Qatar\"\n",
    "\n",
    "# Create a list of all the Excel files in the folder\n",
    "excel_files = []\n",
    "for file in os.listdir(excel_folder_path):\n",
    "    if file.endswith(\".xlsx\"):\n",
    "        excel_files.append(file)"
   ]
  },
  {
   "cell_type": "code",
   "execution_count": null,
   "metadata": {},
   "outputs": [],
   "source": [
    "\n",
    "# Create a dictionary to store the results\n",
    "results = {}\n",
    "\n",
    "# Loop over all of the Excel files\n",
    "for excel_file in excel_files:\n",
    "    # Read the Excel file into a Pandas DataFrame\n",
    "    df = pd.read_excel(excel_folder_path + \"/\" + excel_file)\n",
    "\n",
    "    # Get the total number of tweets\n",
    "    total_tweets = df.shape[0]\n",
    "\n",
    "    # Get the total number of original tweets\n",
    "    # If RTed column is empty then it is an original tweet\n",
    "    original_tweets = df[df[\"RTed\"].isna()].shape[0]\n",
    "\n",
    "    # Get the total number of retweets\n",
    "    retweets = total_tweets - original_tweets\n",
    "\n",
    "    # Get unique date (not time) values from the created_at column\n",
    "    # Convert the created_at column to datetime format\n",
    "    df[\"created_at\"] = pd.to_datetime(df[\"created_at\"])\n",
    "    # Get the unique date values\n",
    "    unique_dates = df[\"created_at\"].dt.date.unique()\n",
    "    # Convert the unique_dates to strings\n",
    "    unique_dates = unique_dates.astype(str)\n",
    "\n",
    "    \n",
    "    languages = []\n",
    "    hashtags = []\n",
    "    # Loop over all of the tweets \n",
    "    for i  in range(len(df)):\n",
    "        # Get the text of the tweet\n",
    "        tweet = df[\"text\"][i]\n",
    "        # Detect the language of the text\n",
    "        try:\n",
    "            language = langdetect.detect(tweet)\n",
    "        except:\n",
    "            language = \"undetected\"\n",
    "        # Add the language to the list\n",
    "        languages.append(language)\n",
    "\n",
    "        # Detect the hashtags in the text\n",
    "        if \"#\" in tweet:\n",
    "            # Split the tweet into words\n",
    "            words = tweet.split()\n",
    "            # Loop over all of the words\n",
    "            for word in words:\n",
    "                # If the word starts with a hashtag\n",
    "                if word.startswith(\"#\"):\n",
    "                    # Add the hashtag to the list\n",
    "                    hashtags.append(word)    \n",
    "    \n",
    "    languages = list(set(languages))  \n",
    "    hashtags = list(set(hashtags))       \n",
    "\n",
    "   \n",
    "    # Get country from excel_file name\n",
    "    country = excel_file.split(\" \")[0]\n",
    "    \n",
    "    # Add the results to the dictionary\n",
    "    results[country] = {\n",
    "        \"total_tweets\": total_tweets,\n",
    "        \"original_tweets\": original_tweets,\n",
    "        \"retweets\": retweets,\n",
    "        \"unique_dates\": unique_dates,\n",
    "        \"languages\": languages, \n",
    "        \"hashtags\": hashtags\n",
    "    }\n",
    "\n",
    "# Create a DataFrame from the dictionary\n",
    "df_results = pd.DataFrame(results)\n",
    "\n",
    "# Print the DataFrame\n",
    "print(df_results)"
   ]
  },
  {
   "cell_type": "code",
   "execution_count": null,
   "metadata": {},
   "outputs": [],
   "source": [
    "# Export df_results as an excel file \n",
    "df_results.to_excel('../interim/global_embassies_stats.xlsx')\n"
   ]
  },
  {
   "cell_type": "code",
   "execution_count": null,
   "metadata": {},
   "outputs": [],
   "source": [
    "sum_total_tweets = df_results.iloc[0].sum()\n",
    "print(f\"Total tweets: {sum_total_tweets}\")"
   ]
  },
  {
   "cell_type": "code",
   "execution_count": null,
   "metadata": {},
   "outputs": [],
   "source": []
  }
 ],
 "metadata": {
  "kernelspec": {
   "display_name": ".venv",
   "language": "python",
   "name": "python3"
  },
  "language_info": {
   "codemirror_mode": {
    "name": "ipython",
    "version": 3
   },
   "file_extension": ".py",
   "mimetype": "text/x-python",
   "name": "python",
   "nbconvert_exporter": "python",
   "pygments_lexer": "ipython3",
   "version": "3.11.3"
  },
  "orig_nbformat": 4
 },
 "nbformat": 4,
 "nbformat_minor": 2
}
